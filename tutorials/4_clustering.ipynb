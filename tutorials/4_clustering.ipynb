{
 "cells": [],
 "metadata": {
  "kernelspec": {
   "display_name": "scatseisnet",
   "language": "python",
   "name": "python3"
  },
  "language_info": {
   "codemirror_mode": {
    "name": "ipython",
    "version": 3
   },
   "file_extension": ".py",
   "mimetype": "text/x-python",
   "name": "python",
   "nbconvert_exporter": "python",
   "pygments_lexer": "ipython3",
   "version": "3.10.0 | packaged by conda-forge | (default, Nov 20 2021, 02:43:39) [Clang 11.1.0 ]"
  },
  "vscode": {
   "interpreter": {
    "hash": "ff40ac3a3ffdf777b2291a6e55c1e0c401660695396eac1c1a92baa29c863b6b"
   }
  }
 },
 "nbformat": 4,
 "nbformat_minor": 5
}
